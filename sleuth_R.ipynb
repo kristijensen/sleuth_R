{
 "cells": [
  {
   "cell_type": "code",
   "execution_count": 10,
   "metadata": {
    "collapsed": false
   },
   "outputs": [
    {
     "data": {
      "text/html": [
       "<dl class=dl-horizontal>\n",
       "\t<dt>s_1_1_AGTCAA</dt>\n",
       "\t\t<dd>'./results/s_1_1_AGTCAA'</dd>\n",
       "\t<dt>s_1_1_AGTTCC</dt>\n",
       "\t\t<dd>'./results/s_1_1_AGTTCC'</dd>\n",
       "\t<dt>s_1_1_ATGTCA</dt>\n",
       "\t\t<dd>'./results/s_1_1_ATGTCA'</dd>\n",
       "\t<dt>s_1_1_CCGTCC</dt>\n",
       "\t\t<dd>'./results/s_1_1_CCGTCC'</dd>\n",
       "\t<dt>s_1_1_GTCCGC</dt>\n",
       "\t\t<dd>'./results/s_1_1_GTCCGC'</dd>\n",
       "\t<dt>s_1_1_GTGAAA</dt>\n",
       "\t\t<dd>'./results/s_1_1_GTGAAA'</dd>\n",
       "\t<dt>s_1_1_GTGGCC</dt>\n",
       "\t\t<dd>'./results/s_1_1_GTGGCC'</dd>\n",
       "\t<dt>s_1_1_GTTTCG</dt>\n",
       "\t\t<dd>'./results/s_1_1_GTTTCG'</dd>\n",
       "</dl>\n"
      ],
      "text/latex": [
       "\\begin{description*}\n",
       "\\item[s\\textbackslash{}\\_1\\textbackslash{}\\_1\\textbackslash{}\\_AGTCAA] './results/s\\_1\\_1\\_AGTCAA'\n",
       "\\item[s\\textbackslash{}\\_1\\textbackslash{}\\_1\\textbackslash{}\\_AGTTCC] './results/s\\_1\\_1\\_AGTTCC'\n",
       "\\item[s\\textbackslash{}\\_1\\textbackslash{}\\_1\\textbackslash{}\\_ATGTCA] './results/s\\_1\\_1\\_ATGTCA'\n",
       "\\item[s\\textbackslash{}\\_1\\textbackslash{}\\_1\\textbackslash{}\\_CCGTCC] './results/s\\_1\\_1\\_CCGTCC'\n",
       "\\item[s\\textbackslash{}\\_1\\textbackslash{}\\_1\\textbackslash{}\\_GTCCGC] './results/s\\_1\\_1\\_GTCCGC'\n",
       "\\item[s\\textbackslash{}\\_1\\textbackslash{}\\_1\\textbackslash{}\\_GTGAAA] './results/s\\_1\\_1\\_GTGAAA'\n",
       "\\item[s\\textbackslash{}\\_1\\textbackslash{}\\_1\\textbackslash{}\\_GTGGCC] './results/s\\_1\\_1\\_GTGGCC'\n",
       "\\item[s\\textbackslash{}\\_1\\textbackslash{}\\_1\\textbackslash{}\\_GTTTCG] './results/s\\_1\\_1\\_GTTTCG'\n",
       "\\end{description*}\n"
      ],
      "text/markdown": [
       "s_1_1_AGTCAA\n",
       ":   './results/s_1_1_AGTCAA's_1_1_AGTTCC\n",
       ":   './results/s_1_1_AGTTCC's_1_1_ATGTCA\n",
       ":   './results/s_1_1_ATGTCA's_1_1_CCGTCC\n",
       ":   './results/s_1_1_CCGTCC's_1_1_GTCCGC\n",
       ":   './results/s_1_1_GTCCGC's_1_1_GTGAAA\n",
       ":   './results/s_1_1_GTGAAA's_1_1_GTGGCC\n",
       ":   './results/s_1_1_GTGGCC's_1_1_GTTTCG\n",
       ":   './results/s_1_1_GTTTCG'\n",
       "\n"
      ],
      "text/plain": [
       "            s_1_1_AGTCAA             s_1_1_AGTTCC             s_1_1_ATGTCA \n",
       "\"./results/s_1_1_AGTCAA\" \"./results/s_1_1_AGTTCC\" \"./results/s_1_1_ATGTCA\" \n",
       "            s_1_1_CCGTCC             s_1_1_GTCCGC             s_1_1_GTGAAA \n",
       "\"./results/s_1_1_CCGTCC\" \"./results/s_1_1_GTCCGC\" \"./results/s_1_1_GTGAAA\" \n",
       "            s_1_1_GTGGCC             s_1_1_GTTTCG \n",
       "\"./results/s_1_1_GTGGCC\" \"./results/s_1_1_GTTTCG\" "
      ]
     },
     "metadata": {},
     "output_type": "display_data"
    },
    {
     "data": {
      "text/html": [
       "<table>\n",
       "<thead><tr><th scope=col>sample</th><th scope=col>condition</th><th scope=col>path</th></tr></thead>\n",
       "<tbody>\n",
       "\t<tr><td>s_1_1_AGTCAA          </td><td>trm12_tgs1            </td><td>./results/s_1_1_AGTCAA</td></tr>\n",
       "\t<tr><td>s_1_1_AGTTCC          </td><td>trm12_tgs1            </td><td>./results/s_1_1_AGTTCC</td></tr>\n",
       "\t<tr><td>s_1_1_ATGTCA          </td><td>trm12                 </td><td>./results/s_1_1_ATGTCA</td></tr>\n",
       "\t<tr><td>s_1_1_CCGTCC          </td><td>trm12                 </td><td>./results/s_1_1_CCGTCC</td></tr>\n",
       "\t<tr><td>s_1_1_GTCCGC          </td><td>tgs1                  </td><td>./results/s_1_1_GTCCGC</td></tr>\n",
       "\t<tr><td>s_1_1_GTGAAA          </td><td>tgs1                  </td><td>./results/s_1_1_GTGAAA</td></tr>\n",
       "\t<tr><td>s_1_1_GTGGCC          </td><td>wt                    </td><td>./results/s_1_1_GTGGCC</td></tr>\n",
       "\t<tr><td>s_1_1_GTTTCG          </td><td>wt                    </td><td>./results/s_1_1_GTTTCG</td></tr>\n",
       "</tbody>\n",
       "</table>\n"
      ],
      "text/latex": [
       "\\begin{tabular}{r|lll}\n",
       " sample & condition & path\\\\\n",
       "\\hline\n",
       "\t s\\_1\\_1\\_AGTCAA           & trm12\\_tgs1                 & ./results/s\\_1\\_1\\_AGTCAA\\\\\n",
       "\t s\\_1\\_1\\_AGTTCC           & trm12\\_tgs1                 & ./results/s\\_1\\_1\\_AGTTCC\\\\\n",
       "\t s\\_1\\_1\\_ATGTCA           & trm12                        & ./results/s\\_1\\_1\\_ATGTCA\\\\\n",
       "\t s\\_1\\_1\\_CCGTCC           & trm12                        & ./results/s\\_1\\_1\\_CCGTCC\\\\\n",
       "\t s\\_1\\_1\\_GTCCGC           & tgs1                         & ./results/s\\_1\\_1\\_GTCCGC\\\\\n",
       "\t s\\_1\\_1\\_GTGAAA           & tgs1                         & ./results/s\\_1\\_1\\_GTGAAA\\\\\n",
       "\t s\\_1\\_1\\_GTGGCC           & wt                           & ./results/s\\_1\\_1\\_GTGGCC\\\\\n",
       "\t s\\_1\\_1\\_GTTTCG           & wt                           & ./results/s\\_1\\_1\\_GTTTCG\\\\\n",
       "\\end{tabular}\n"
      ],
      "text/plain": [
       "  sample       condition  path                  \n",
       "1 s_1_1_AGTCAA trm12_tgs1 ./results/s_1_1_AGTCAA\n",
       "2 s_1_1_AGTTCC trm12_tgs1 ./results/s_1_1_AGTTCC\n",
       "3 s_1_1_ATGTCA trm12      ./results/s_1_1_ATGTCA\n",
       "4 s_1_1_CCGTCC trm12      ./results/s_1_1_CCGTCC\n",
       "5 s_1_1_GTCCGC tgs1       ./results/s_1_1_GTCCGC\n",
       "6 s_1_1_GTGAAA tgs1       ./results/s_1_1_GTGAAA\n",
       "7 s_1_1_GTGGCC wt         ./results/s_1_1_GTGGCC\n",
       "8 s_1_1_GTTTCG wt         ./results/s_1_1_GTTTCG"
      ]
     },
     "metadata": {},
     "output_type": "display_data"
    },
    {
     "name": "stderr",
     "output_type": "stream",
     "text": [
      "reading in kallisto results\n",
      "........\n",
      "normalizing est_counts\n",
      "5074 targets passed the filter\n",
      "normalizing tpm\n",
      "merging in metadata\n",
      "normalizing bootstrap samples\n",
      "summarizing bootstraps\n"
     ]
    },
    {
     "data": {
      "text/plain": [
       "\tsleuth object\n",
       "\n",
       "bears: 8 \n",
       "design: ~condition "
      ]
     },
     "metadata": {},
     "output_type": "display_data"
    },
    {
     "ename": "ERROR",
     "evalue": "Error in solve.default(t(X) %*% X): Lapack routine dgesv: system is exactly singular: U[5,5] = 0\n",
     "output_type": "error",
     "traceback": [
      "Error in solve.default(t(X) %*% X): Lapack routine dgesv: system is exactly singular: U[5,5] = 0\nTraceback:\n",
      "1. sleuth_fit(so)",
      "2. solve(t(X) %*% X)",
      "3. solve.default(t(X) %*% X)"
     ]
    }
   ],
   "source": [
    "#run parallel ./run_kalisto.sh ::: *.fastq.gz first, \n",
    "#it creates folders for each sample s_1_1_****** containing results files .tsv\n",
    "library(\"sleuth\")\n",
    "\n",
    "#create table containing sample and file information, note that kallisto file does not exist\n",
    "base_dir <- \"./results\"\n",
    "sample_id <- dir(file.path(base_dir))\n",
    "#kal_dirs <- sapply(sample_id, function(id) file.path(\"./results\", id, \"kallisto\"))\n",
    "kal_dirs <- sapply(sample_id, function(id) file.path(\"./results\", id))\n",
    "kal_dirs\n",
    "    \n",
    "s2c <- read.table(\"Sample_Report.txt\", header = TRUE, sep = \"\\t\")\n",
    "s3c <- dplyr::select(s2c, sample = output, sample)\n",
    "s4c <- s3c[1:8,]\n",
    "names(s4c)[2] <- \"condition\"\n",
    "s4c$sample <- gsub(\".fastq.gz\", \"\", s4c$sample)\n",
    "\n",
    "s5c <- dplyr::mutate(s4c, path = kal_dirs)\n",
    "\n",
    "s5c\n",
    "    \n",
    "so <- sleuth_prep(s5c, ~ condition)\n",
    "\n",
    "so <- sleuth_fit(so)"
   ]
  }
 ],
 "metadata": {
  "anaconda-cloud": {},
  "kernelspec": {
   "display_name": "R",
   "language": "R",
   "name": "ir"
  },
  "language_info": {
   "codemirror_mode": "r",
   "file_extension": ".r",
   "mimetype": "text/x-r-source",
   "name": "R",
   "pygments_lexer": "r",
   "version": "3.3.1"
  }
 },
 "nbformat": 4,
 "nbformat_minor": 1
}
